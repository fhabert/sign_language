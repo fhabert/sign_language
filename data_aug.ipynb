{
 "cells": [
  {
   "cell_type": "code",
   "execution_count": 1,
   "metadata": {},
   "outputs": [],
   "source": [
    "import csv\n",
    "import pandas as pd\n",
    "import matplotlib.pyplot as plt\n",
    "import tensorflow as tf\n",
    "import numpy as np\n",
    "# from tensorflow.keras import layers\n",
    "from PIL import Image\n",
    "import random"
   ]
  },
  {
   "cell_type": "code",
   "execution_count": 2,
   "metadata": {},
   "outputs": [],
   "source": [
    "df = pd.read_csv(\"./dataset/sign_mnist_train.csv\", sep=\",\", encoding=\"utf-8\")"
   ]
  },
  {
   "cell_type": "code",
   "execution_count": 3,
   "metadata": {},
   "outputs": [],
   "source": [
    "data_aug = tf.keras.Sequential()\n",
    "data_aug.add(tf.keras.layers.RandomFlip(\"horizontal\"))\n",
    "data_aug.add(tf.keras.layers.RandomRotation((-0.15, 0.15)))\n",
    "data_aug.add(tf.keras.layers.RandomBrightness((-0.5, 0.3)))"
   ]
  },
  {
   "cell_type": "code",
   "execution_count": 4,
   "metadata": {},
   "outputs": [
    {
     "ename": "",
     "evalue": "",
     "output_type": "error",
     "traceback": [
      "\u001b[1;31mCanceled future for execute_request message before replies were done"
     ]
    },
    {
     "ename": "",
     "evalue": "",
     "output_type": "error",
     "traceback": [
      "\u001b[1;31mThe Kernel crashed while executing code in the the current cell or a previous cell. Please review the code in the cell(s) to identify a possible cause of the failure. Click <a href='https://aka.ms/vscodeJupyterKernelCrash'>here</a> for more info. View Jupyter <a href='command:jupyter.viewOutput'>log</a> for further details."
     ]
    }
   ],
   "source": [
    "for i in range(100):\n",
    "    ind = random\n",
    "    im = df.iloc[i, 1:].to_numpy().reshape((28, 28, 1))\n",
    "    im2 = data_aug(im.reshape(28, 28, 1))\n",
    "    plt.imshow(im, cmap='gray', vmin=0, vmax=255)\n",
    "    plt.show()\n",
    "    plt.imshow(im2, cmap='gray', vmin=0, vmax=255)\n",
    "    plt.show()\n",
    "    break"
   ]
  },
  {
   "cell_type": "code",
   "execution_count": null,
   "metadata": {},
   "outputs": [
    {
     "ename": "",
     "evalue": "",
     "output_type": "error",
     "traceback": [
      "\u001b[1;31mRunning cells with 'tf' requires the ipykernel package.\n",
      "\u001b[1;31mRun the following command to install 'ipykernel' into the Python environment. \n",
      "\u001b[1;31mCommand: 'conda install -n tf ipykernel --update-deps --force-reinstall'"
     ]
    }
   ],
   "source": [
    "# rajpoute 10% de noise par rapport à la photo originale\n",
    "df = pd.read_csv(\"./dataset/sign_mnist_train.csv\", sep=\";\", encoding=\"utf-8\")\n",
    "\n",
    "img = df.iloc[0, 1:].to_numpy().reshape((28, 28, 1))\n",
    "plt.imshow(img, cmap='gray', vmin=0, vmax=255)\n",
    "plt.show()\n",
    "\n",
    "img_original = img\n",
    "\n",
    "w, h = len(img), len(img)\n",
    "pos_pixels = []\n",
    "threshold = 125\n",
    "\n",
    "for i in range(2, w-1):\n",
    "    for j in range(2, h-1):\n",
    "        if img_original[i][j] > threshold:\n",
    "            pos_pixels.append([i, j+1])\n",
    "\n",
    "percent = 0.08\n",
    "num_pixels = np.uint(len(pos_pixels)*percent)\n",
    "random.shuffle(pos_pixels)\n",
    "for item in pos_pixels[:num_pixels]:\n",
    "    rand = random.randint(90, 110)\n",
    "    img_original[item[0]][item[1]] = rand\n",
    "\n",
    "plt.imshow(img_original, cmap='gray', vmin=0, vmax=255)\n",
    "plt.show()"
   ]
  },
  {
   "cell_type": "code",
   "execution_count": null,
   "metadata": {},
   "outputs": [],
   "source": [
    "# crop \n",
    "dim = 28\n",
    "img = df.iloc[9, 1:].to_numpy().reshape((dim, dim))\n",
    "plt.imshow(img, cmap='gray', vmin=0, vmax=255)\n",
    "plt.show()\n",
    "\n",
    "padding = 20\n",
    "new_dim = len(img) + padding*2\n",
    "down_lim, up_lim = padding, len(img)+padding\n",
    "data_aug = tf.keras.Sequential()\n",
    "data_aug.add(tf.keras.layers.Resizing(new_dim, new_dim))\n",
    "\n",
    "img_original = [[x for x in item] for item in img]\n",
    "\n",
    "echantillon = img[20:28, 20:28]\n",
    "im_augmented = data_aug(echantillon.reshape(8, 8, 1))\n",
    "\n",
    "# met la photo dans un plus grand array avec le fond deja dedans\n",
    "reshape_img = []\n",
    "for i in range(new_dim):\n",
    "    inner_list = []\n",
    "    for j in range(new_dim):\n",
    "        if (i > down_lim and i < up_lim) and (j > down_lim and j < up_lim):\n",
    "            inner_list.append(img_original[i - down_lim][j - down_lim])\n",
    "        else:\n",
    "            inner_list.append(im_augmented[i][j])\n",
    "    reshape_img.append(inner_list)\n",
    "\n",
    "new_image = np.asarray(reshape_img).astype(np.uint32)\n",
    "\n",
    "data_crop = tf.keras.Sequential()\n",
    "value = random.randint(-10, 10) # gere le degre de positionnement pour le crop\n",
    "data_crop.add(tf.keras.layers.Cropping2D(cropping=((padding-value,padding+value),(padding-value,padding+value))))\n",
    "im_augmented = data_crop(new_image.reshape(1, new_dim, new_dim, 1))\n",
    "\n",
    "data_crop_back = tf.keras.Sequential()\n",
    "data_aug.add(tf.keras.layers.Resizing(dim, dim))\n",
    "im_back= data_crop_back(np.asarray(im_augmented))\n",
    "plt.imshow(np.asarray(im_back).reshape(28,28,1), cmap='gray', vmin=0, vmax=255)\n",
    "plt.show()"
   ]
  }
 ],
 "metadata": {
  "kernelspec": {
   "display_name": "tf",
   "language": "python",
   "name": "python3"
  },
  "language_info": {
   "codemirror_mode": {
    "name": "ipython",
    "version": 3
   },
   "file_extension": ".py",
   "mimetype": "text/x-python",
   "name": "python",
   "nbconvert_exporter": "python",
   "pygments_lexer": "ipython3",
   "version": "3.10.9"
  },
  "orig_nbformat": 4,
  "vscode": {
   "interpreter": {
    "hash": "ff28ccdbac8cf2ebf2d502fa25258152c82cd7e23dfddd67ad268a7243f8e570"
   }
  }
 },
 "nbformat": 4,
 "nbformat_minor": 2
}
